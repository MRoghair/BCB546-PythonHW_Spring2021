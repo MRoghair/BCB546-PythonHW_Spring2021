{
 "cells": [
  {
   "cell_type": "markdown",
   "metadata": {},
   "source": [
    "# Python Assignment for BCB546 Spring 2021\n",
    "#### Marissa Roghair Stroud\n"
   ]
  },
  {
   "cell_type": "code",
   "execution_count": 1,
   "metadata": {},
   "outputs": [],
   "source": [
    "from Bio.Seq import Seq\n",
    "from Bio import SeqIO\n",
    "from Bio.Data import CodonTable\n",
    "from Bio.SeqUtils import GC\n",
    "import pandas as pd\n",
    "import numpy as np\n",
    "from pandas import DataFrame\n",
    "import matplotlib.pyplot as plt\n",
    "import seaborn as sns"
   ]
  },
  {
   "cell_type": "markdown",
   "metadata": {},
   "source": [
    "## Assignment Details\n",
    "\n",
    "### Functions \n",
    "1. Document Dr. X's function with comments and with markdown text in your Jupyter notebook.\n",
    "2. Write a function that translates a string of nucleotides to amino acids based on Dr. X's pseudo-code suggestion.\n",
    "3. Write an alternative translation function.\n",
    "4. Write a function that calculates the molecular weight of each amino acid sequence.\n",
    "5. Write a function that computes the GC-content of each DNA sequence.\n",
    "\n",
    "### In the MAIN part of the script \n",
    "6. Add two new columns to the bears DataFrame: (1) molecular weight and (2) GC content.\n",
    "7. Call your functions from step 3 (or step 2) and step 4 and 5 and fill in the new columns in the DataFrame.\n",
    "8. Plot a bar-chart of adult body mass per species. In your description of the graph, provide text that answers these questions: \n",
    "  a. What is the largest bear species? \n",
    "  b. What else is interesting about this species?\n",
    "9. Plot a graph that shows the molecular weight as a function of GC content. \n",
    "10. Write the entire DataFrame to a new CSV file that includes your new columns.\n",
    "11. BONUS: What other visualizations, functions or tasks would you do with this dataset? Add something interesting for fun. (0.5 additional points if your total score is < 15)."
   ]
  },
  {
   "cell_type": "markdown",
   "metadata": {},
   "source": [
    "### For testing the functions throughout"
   ]
  },
  {
   "cell_type": "code",
   "execution_count": 2,
   "metadata": {},
   "outputs": [],
   "source": [
    "my_seq = Seq(\"AGTACACTGGTCTTT\")"
   ]
  },
  {
   "cell_type": "markdown",
   "metadata": {},
   "source": [
    "# FUNCTIONS\n",
    "\n",
    "## 1. DOCUMENT THE FUNCTION\n",
    "Your descriptions of all functions should contain information about what the function does, as well as information about the return types and arguments."
   ]
  },
  {
   "cell_type": "code",
   "execution_count": 3,
   "metadata": {},
   "outputs": [],
   "source": [
    "def get_sequences_from_file(fasta_fn):\n",
    "    sequence_data_dict = {}\n",
    "    for record in SeqIO.parse(fasta_fn, \"fasta\"):\n",
    "        description = record.description.split()\n",
    "        species_name = description[1] + \" \" + description[2]\n",
    "        sequence_data_dict[species_name] = record.seq\n",
    "    return(sequence_data_dict)"
   ]
  },
  {
   "cell_type": "markdown",
   "metadata": {},
   "source": [
    "Overall, this function is pulling out the species names and cytb sequences of the organisms and putting them in a dictionary for easier access. A more detailed description of what this code is doing:"
   ]
  },
  {
   "cell_type": "markdown",
   "metadata": {},
   "source": [
    "The first line, `def get_sequences_from_file(fasta_fn):` is defining a function named `get_sequences_from_file`, in which the sequences are in FASTA format. \n",
    "\n",
    "The second line, `sequence_data_dict = {}` is creating a blank dictionary, to be filled as the function runs. \n",
    "\n",
    "The third line, `for record in SeqIO.parse(fasta_fn, \"fasta\")` defines the `for` loop. For every record in this FASTA file, you will do each of the following commands. \n",
    "\n",
    "* `description = record.description.split()` The description of the record is split in pieces.\n",
    "* `species_name = description[1] + \" \" + description[2]` The species name is defined. This is the first part of the description, followed by a space, then the second part. (e.g. Genus species)\n",
    "* `sequence_data_dict[species_name] = record.seq` The species names are stored as a dictionary in the record for the sequence.  \n",
    "\n",
    "The final line, `return(sequence_data_dict)` returns the sequence data dictionary. This contains the species name followed by the cytb sequence."
   ]
  },
  {
   "cell_type": "markdown",
   "metadata": {},
   "source": [
    "###### Testing the function's output..."
   ]
  },
  {
   "cell_type": "code",
   "execution_count": 77,
   "metadata": {},
   "outputs": [],
   "source": [
    "cytb_seqs = get_sequences_from_file(\"bears_cytb.fasta\")"
   ]
  },
  {
   "cell_type": "code",
   "execution_count": 78,
   "metadata": {},
   "outputs": [
    {
     "data": {
      "text/plain": [
       "{'Ursus spelaeus': Seq('ATGACCAACATCCGAAAAACCCATCCATTAGCTAAAATCATCAACAACTCATTT...AGA'),\n",
       " 'Ursus arctos': Seq('ATGACCAACATCCGAAAAACCCACCCATTAGCTAAAATCATCAACAACTCACTT...AGA'),\n",
       " 'Ursus thibetanus': Seq('ATGACCAACATCCGAAAAACCCATCCATTAGCCAAAATCATCAACAACTCACTC...AGA'),\n",
       " 'Melursus ursinus': Seq('ATGACCAACATCCGAAAAACCCACCCATTAGCTAAAATCATTAACAACTCACTC...AGA'),\n",
       " 'Ursus americanus': Seq('ATGACCAACATCCGAAAAACCCACCCATTAGCTAAAATCATCAACAACTCACTT...AGA'),\n",
       " 'Helarctos malayanus': Seq('ATGACCAACATCCGAAAAACCCACCCATTAGCTAAAATCATTAACAACTCACTT...AGA'),\n",
       " 'Ailuropoda melanoleuca': Seq('ATGATCAACATCCGAAAAACTCATCCATTAGTTAAAATTATCAACAACTCATTC...AGA'),\n",
       " 'Tremarctos ornatus': Seq('ATGACCAACATCCGAAAAACTCACCCACTAGCTAAAATCATCAACAGCTCATTC...AGA'),\n",
       " 'Ursus maritimus': Seq('ATGACCAACATCCGAAAAACCCACCCATTAGCTAAAATCATCAACAACTCATTT...AGA')}"
      ]
     },
     "execution_count": 78,
     "metadata": {},
     "output_type": "execute_result"
    }
   ],
   "source": [
    "cytb_seqs"
   ]
  },
  {
   "cell_type": "markdown",
   "metadata": {},
   "source": [
    "## 2. STRING-TRANSLATE FUNCTION \n",
    "Write a function that translates sequences. All sequences start at codon position 1. Complete a function that translates using a loop over the string of nucleotides\n",
    "\n",
    "Below is some pseudo-code and suggestions, feel free to change the function and variable names:"
   ]
  },
  {
   "cell_type": "markdown",
   "metadata": {},
   "source": [
    "##### Pseudo-code\n",
    "    def translate_function(string_nucleotides): \n",
    "        mito_table = CodonTable.unambiguous_dna_by_name[\"Vertebrate Mitochondrial\"] \n",
    "        for-loop through every 3rd position in string_nucleotides to get the codon using range subsets\n",
    "             # IMPORTANT: if the sequence has a stop codon at the end, you should leave it off\n",
    "             # this is how you can retrieve the amino acid: mito_table.forward_table[codon]\n",
    "             add the aa to aa_seq_string\n",
    "        return(aa_seq_string)"
   ]
  },
  {
   "cell_type": "markdown",
   "metadata": {},
   "source": [
    "Checking what this table returns. This is a codon table containing 3-letter DNA codons followed by the corresponding amino acid. "
   ]
  },
  {
   "cell_type": "code",
   "execution_count": 6,
   "metadata": {},
   "outputs": [
    {
     "name": "stdout",
     "output_type": "stream",
     "text": [
      "Table 2 Vertebrate Mitochondrial, SGC1\n",
      "\n",
      "  |  T      |  C      |  A      |  G      |\n",
      "--+---------+---------+---------+---------+--\n",
      "T | TTT F   | TCT S   | TAT Y   | TGT C   | T\n",
      "T | TTC F   | TCC S   | TAC Y   | TGC C   | C\n",
      "T | TTA L   | TCA S   | TAA Stop| TGA W   | A\n",
      "T | TTG L   | TCG S   | TAG Stop| TGG W   | G\n",
      "--+---------+---------+---------+---------+--\n",
      "C | CTT L   | CCT P   | CAT H   | CGT R   | T\n",
      "C | CTC L   | CCC P   | CAC H   | CGC R   | C\n",
      "C | CTA L   | CCA P   | CAA Q   | CGA R   | A\n",
      "C | CTG L   | CCG P   | CAG Q   | CGG R   | G\n",
      "--+---------+---------+---------+---------+--\n",
      "A | ATT I(s)| ACT T   | AAT N   | AGT S   | T\n",
      "A | ATC I(s)| ACC T   | AAC N   | AGC S   | C\n",
      "A | ATA M(s)| ACA T   | AAA K   | AGA Stop| A\n",
      "A | ATG M(s)| ACG T   | AAG K   | AGG Stop| G\n",
      "--+---------+---------+---------+---------+--\n",
      "G | GTT V   | GCT A   | GAT D   | GGT G   | T\n",
      "G | GTC V   | GCC A   | GAC D   | GGC G   | C\n",
      "G | GTA V   | GCA A   | GAA E   | GGA G   | A\n",
      "G | GTG V(s)| GCG A   | GAG E   | GGG G   | G\n",
      "--+---------+---------+---------+---------+--\n"
     ]
    }
   ],
   "source": [
    "mito_table = CodonTable.unambiguous_dna_by_name[\"Vertebrate Mitochondrial\"]\n",
    "print(mito_table) "
   ]
  },
  {
   "cell_type": "markdown",
   "metadata": {},
   "source": [
    "### _My sequence translation function and test sequence:_\n",
    "\n",
    "These are two sequences used to test my code to be sure it works as it should."
   ]
  },
  {
   "cell_type": "code",
   "execution_count": 123,
   "metadata": {},
   "outputs": [],
   "source": [
    "my_seq = Seq(\"AGTACACTGGTCTTTAGGTTT\")\n",
    "bad_seq = Seq(\"AGTACACTGGTCTT\")"
   ]
  },
  {
   "cell_type": "code",
   "execution_count": 124,
   "metadata": {},
   "outputs": [],
   "source": [
    "def translate_fxn_stops(seq):\n",
    "    mito_table = CodonTable.unambiguous_dna_by_name[\"Vertebrate Mitochondrial\"]\n",
    "    protein = \"\"\n",
    "    if len(seq)%3 == 0:\n",
    "        for i in range(0, len(seq), 3):\n",
    "            codon = seq[i:i + 3]\n",
    "            if codon == \"TAG\": break;\n",
    "            if codon == \"TAA\": break;\n",
    "            if codon == \"AGA\": break;\n",
    "            if codon == \"AGG\": break;\n",
    "            protein += mito_table.forward_table[codon]\n",
    "    else: \n",
    "        print(\"Sequence not divisible by 3! Cannot translate.\")\n",
    "    return protein\n",
    "\n",
    "\n",
    "#mito_table.stop_codons['TAA', 'TAG', 'AGA', 'AGG']"
   ]
  },
  {
   "cell_type": "markdown",
   "metadata": {},
   "source": [
    "#### _How the `translate_fxn_stops` function works:_\n",
    "\n",
    "The first line of this code defines the function `translate_fxn`, which operates on a `seq` object\n",
    "\n",
    "* The first line of this function calls the table to be used for translation: the vertebrate mitochondrial codon table.\n",
    "* The second lines creates an empty object for the protein sequence to be translated into\n",
    "* The third line sets up the loop for translation. It starts off by asking if the length of the sequence is divisible by 3 (if the remainder of dividing by 3 is equal to 0). \n",
    "    * If the sequence is divisible by 3, proceed into the loop. This will search through every 3rd base, beginning with base 0 and ending at the end of the sequence. Thus: start = position 0, stop = last position (position = length of the sequence), step = 3.\n",
    "    * The next line defines a codon. A codon is the range from position i to i+3 (in Python language, this would mean for an i=0, it includes 0, 1, and 2). \n",
    "    * The next 4 `if` statements stop the translation if the `codon` matches one of the 4 stop codon sequences: `TAG`, `TAA`, `AGA`, or `AGG`. If the codon matches one of these, the loop is broken and the codon is not appended to the protein sequence\n",
    "    * So long as the codon sequence doesn't match a stop codon, it is interpreted with the codon table and added to the end of the protein sequence.\n",
    "* If the sequence is not divisible by 3, the program will return \"Sequence not divisible by 3! Cannot translate.\"\n",
    "* The final line of the program outputs the protein sequence.\n",
    "\n",
    "#### _Testing the function_:\n",
    "\n",
    "These are two tests to make sure my code works correctly. `my_seq` contains a stop codon at the 6th position, so only 5 amino acids should be printed. `bad_seq` contains 14 nucleotides (not divisible by 3), so an error message is printed. "
   ]
  },
  {
   "cell_type": "code",
   "execution_count": 125,
   "metadata": {},
   "outputs": [
    {
     "data": {
      "text/plain": [
       "'STLVF'"
      ]
     },
     "execution_count": 125,
     "metadata": {},
     "output_type": "execute_result"
    }
   ],
   "source": [
    "translate_fxn_stops(my_seq)"
   ]
  },
  {
   "cell_type": "code",
   "execution_count": 96,
   "metadata": {},
   "outputs": [
    {
     "name": "stdout",
     "output_type": "stream",
     "text": [
      "Sequence not divisible by 3! Cannot translate.\n"
     ]
    },
    {
     "data": {
      "text/plain": [
       "''"
      ]
     },
     "execution_count": 96,
     "metadata": {},
     "output_type": "execute_result"
    }
   ],
   "source": [
    "translate_fxn_stops(bad_seq)"
   ]
  },
  {
   "cell_type": "markdown",
   "metadata": {},
   "source": [
    "## 3. ALTERNATIVE STRING-TRANSLATE FUNCTION \n",
    "\n",
    "Is there a better way to write the translation function? (Hint: yes there is.) Perhaps using available BioPython library utilities? Please also write this function."
   ]
  },
  {
   "cell_type": "markdown",
   "metadata": {},
   "source": [
    "Here, I was just testing out some different Biopython commands for translation."
   ]
  },
  {
   "cell_type": "code",
   "execution_count": 10,
   "metadata": {
    "scrolled": true
   },
   "outputs": [
    {
     "name": "stdout",
     "output_type": "stream",
     "text": [
      "DNA sequence = AGTACACTGGTCAGA \n",
      "\n",
      "AA sequence = STLV* \n",
      "\n",
      "AA sequence = STLV <-- This is the one we'll want to use!\n"
     ]
    }
   ],
   "source": [
    "#Practice sequence containing a stop codon\n",
    "my_seq2 = Seq(\"AGTACACTGGTCAGA\")\n",
    "print(\"DNA sequence =\", my_seq2, \"\\n\")\n",
    "\n",
    "#Regular translation output with the Vertebrate Mitochondria codon table\n",
    "my_protein = my_seq2.translate(CodonTable.unambiguous_dna_by_name[\"Vertebrate Mitochondrial\"])\n",
    "print(\"AA sequence =\", my_protein, \"\\n\")\n",
    "\n",
    "#Command leaving off stop codons\n",
    "my_protein2 = my_seq2.translate(CodonTable.unambiguous_dna_by_name[\"Vertebrate Mitochondrial\"], to_stop=True)\n",
    "print(\"AA sequence =\", my_protein2, \"<-- This is the one we'll want to use!\")"
   ]
  },
  {
   "cell_type": "markdown",
   "metadata": {},
   "source": [
    "#### _How the `translation_function` function works:_\n",
    "\n",
    "* The first line of this command defines the function `translation_function` to be used for a `Seq` object.\n",
    "* The second line of this command uses the Biopython `translate` function on the `Seq` object. It utilizes the Vertebrate Mitochondrial codon table. The option `to_stop=True` stops translation when the program reaches a stop codon, and it does not append that stop codon to the end of the sequence. \n",
    "* The final line of this function returns the protein sequence. "
   ]
  },
  {
   "cell_type": "code",
   "execution_count": 11,
   "metadata": {},
   "outputs": [],
   "source": [
    "def translation_function(seq):\n",
    "    aa_seq = seq.translate(CodonTable.unambiguous_dna_by_name[\"Vertebrate Mitochondrial\"], to_stop=True)\n",
    "    return (aa_seq)"
   ]
  },
  {
   "cell_type": "markdown",
   "metadata": {},
   "source": [
    "The following two commands show that this code works. Again using `my_seq`, which contains a stop codon at position 6, only 5 amino acids are printed. `bad_seq` is still translated here, but because it has a length not divisible by 3, a **warning** is also printed"
   ]
  },
  {
   "cell_type": "code",
   "execution_count": 143,
   "metadata": {},
   "outputs": [
    {
     "data": {
      "text/plain": [
       "Seq('STLVF')"
      ]
     },
     "execution_count": 143,
     "metadata": {},
     "output_type": "execute_result"
    }
   ],
   "source": [
    "translation_function(my_seq)"
   ]
  },
  {
   "cell_type": "code",
   "execution_count": 144,
   "metadata": {},
   "outputs": [
    {
     "name": "stderr",
     "output_type": "stream",
     "text": [
      "/Applications/anaconda3/lib/python3.8/site-packages/Bio/Seq.py:2334: BiopythonWarning: Partial codon, len(sequence) not a multiple of three. Explicitly trim the sequence or add trailing N before translation. This may become an error in future.\n",
      "  warnings.warn(\n"
     ]
    },
    {
     "data": {
      "text/plain": [
       "Seq('STLV')"
      ]
     },
     "execution_count": 144,
     "metadata": {},
     "output_type": "execute_result"
    }
   ],
   "source": [
    "translation_function(bad_seq) # this will produce a warning but still run"
   ]
  },
  {
   "cell_type": "markdown",
   "metadata": {},
   "source": [
    "## 4. COUNT AA ANALYSIS FUNCTION\n",
    "\n",
    "Write a function that calculates the molecular weight of each amino acid sequence. For this, you can use some BioPython functions. I think you can use the ProtParam module. For more info, check this out: http://biopython.org/wiki/ProtParam \n",
    "\n",
    "You should import the following before defining your function:"
   ]
  },
  {
   "cell_type": "code",
   "execution_count": 13,
   "metadata": {},
   "outputs": [],
   "source": [
    "from Bio.SeqUtils.ProtParam import ProteinAnalysis"
   ]
  },
  {
   "cell_type": "markdown",
   "metadata": {},
   "source": [
    "##### Pseudo-code\n",
    "\n",
    "    def compute_molecular_weight(aa_seq):\n",
    "        # I think the ProtParam functions may require aa_seq to be a string.\n",
    "        # It may not work if the amino acid sequence has stop codons.\n",
    "    run the ProteinAnalysis() function on aa_seq\n",
    "\treturn the molecular weight\n",
    "    \n",
    "    \n",
    "#### _How the `compute_molecular_weight` function works:_\n",
    "\n",
    "* The first line defines the function `compute_molecular_weight`, which acts on an amino acid sequence.\n",
    "* The second line creates a new blank object, `MW`, to store the molecular weight information in. \n",
    "* The third line turns the amino acid sequence into a string, then runs it through the ProteinAnalysis function. \n",
    "* The fourth line calculates the molecular weight of the protein sequence.\n",
    "* The final line prints the molecular weight of the protein. \n",
    "\n",
    "The two boxes below this function are testing to make sure I get the same number running these commands alone and within the function I've created. The outputs are the same, confirming the function works as it should. "
   ]
  },
  {
   "cell_type": "code",
   "execution_count": 138,
   "metadata": {},
   "outputs": [],
   "source": [
    "def compute_molecular_weight(aa_seq):\n",
    "    MW = {}   \n",
    "    protein_seq = ProteinAnalysis(str(aa_seq))\n",
    "    MW = protein_seq.molecular_weight()\n",
    "    return MW"
   ]
  },
  {
   "cell_type": "code",
   "execution_count": 141,
   "metadata": {},
   "outputs": [
    {
     "data": {
      "text/plain": [
       "8124.471199999999"
      ]
     },
     "execution_count": 141,
     "metadata": {},
     "output_type": "execute_result"
    }
   ],
   "source": [
    "new_protein = \"MAEGEITTFTALTEKFNLPPGNYKKPKLLYCSNGGHFLRKNWFVGLKKNGSCKRGPRTHYGQKAILFLPLPV\"\n",
    "analyzed_protein2 = ProteinAnalysis(new_protein)\n",
    "analyzed_protein2.molecular_weight()"
   ]
  },
  {
   "cell_type": "code",
   "execution_count": 142,
   "metadata": {},
   "outputs": [
    {
     "data": {
      "text/plain": [
       "8124.471199999999"
      ]
     },
     "execution_count": 142,
     "metadata": {},
     "output_type": "execute_result"
    }
   ],
   "source": [
    "compute_molecular_weight(new_protein)"
   ]
  },
  {
   "cell_type": "markdown",
   "metadata": {},
   "source": [
    "## 5.  GC CONTENT ANALYSIS FUNCTION \n",
    "Write a function that calculates the GC-content (proportion of \"G\" and \"C\") of each DNA sequence and returns this value."
   ]
  },
  {
   "cell_type": "code",
   "execution_count": 20,
   "metadata": {},
   "outputs": [],
   "source": [
    "from Bio.SeqUtils import GC"
   ]
  },
  {
   "cell_type": "markdown",
   "metadata": {},
   "source": [
    "I wrote two versions of this code, one more \"verbose\" than the other, which is nice to run on its own for a single sequence (not in a loop or to be appended to a dataset). \n",
    "\n",
    "`GC_calculator_verbose` functions on a DNA sequence. \n",
    "\n",
    "* The first line defines the function.\n",
    "* The second line prints the length of the DNA sequence.\n",
    "* The third and fourth lines set 2 variables (`i` and `j`) to 0. This is where the number of C's and G's will be counted.\n",
    "* The next two `for` loops function the same. For the base in the DNA sequence, if it matches \"C\", the function adds 1 to the variable `i`. If the base matches \"G\", the function adds 1 to the variable `j`. \n",
    "* The function then prints out the counts for both C's and G's for the DNA sequence.\n",
    "* %GC is calculated by adding `i` and `j` together, dividing by the sequence length, and multiplying by 100. \n",
    "* The final line prints the GC content to the screen."
   ]
  },
  {
   "cell_type": "code",
   "execution_count": 153,
   "metadata": {},
   "outputs": [],
   "source": [
    "def GC_calculator_verbose(dna):\n",
    "    print(\"Sequence length =\", len(dna))\n",
    "    i = 0  # C counter\n",
    "    j = 0  # G counter\n",
    "    for c in dna:\n",
    "        if c == \"C\":\n",
    "            i += 1\n",
    "    print(\"Number of C's =\", i)\n",
    "    for g in dna:\n",
    "        if g == \"G\":\n",
    "            j += 1\n",
    "    print(\"Number of G's =\", j)\n",
    "    gc = ((j + i)*100/len(dna))\n",
    "    print(\"%GC content =\", gc)"
   ]
  },
  {
   "cell_type": "code",
   "execution_count": 154,
   "metadata": {},
   "outputs": [
    {
     "name": "stdout",
     "output_type": "stream",
     "text": [
      "Sequence length = 12\n",
      "Number of C's = 3\n",
      "Number of G's = 4\n",
      "%GC content = 58.333333333333336\n"
     ]
    }
   ],
   "source": [
    "GC_calculator_verbose('ATGCGGACCTAG')"
   ]
  },
  {
   "cell_type": "markdown",
   "metadata": {},
   "source": [
    "This is the simpler version of the GC calculator. `GC_calculator` functions on a DNA sequence. \n",
    "\n",
    "* The first line defines the function.\n",
    "* The second and third lines set 2 variables (`i` and `j`) to 0. This is where the number of C's and G's will be counted.\n",
    "* The next two `for` loops function the same. For the base in the DNA sequence, if it matches \"C\", the function adds 1 to the variable `i`. If the base matches \"G\", the function adds 1 to the variable `j`. \n",
    "* %GC is calculated by adding `i` and `j` together, dividing by the sequence length, and multiplying by 100. \n",
    "* The final line returns the GC content."
   ]
  },
  {
   "cell_type": "code",
   "execution_count": 24,
   "metadata": {},
   "outputs": [],
   "source": [
    "def GC_calculator(dna):\n",
    "    i = 0  # C counter\n",
    "    j = 0  # G counter\n",
    "    for c in dna:\n",
    "        if c == \"C\":\n",
    "            i += 1\n",
    "    for g in dna:\n",
    "        if g == \"G\":\n",
    "            j += 1\n",
    "    gc = ((j + i)*100/len(dna))\n",
    "    return gc"
   ]
  },
  {
   "cell_type": "code",
   "execution_count": 25,
   "metadata": {},
   "outputs": [
    {
     "data": {
      "text/plain": [
       "58.333333333333336"
      ]
     },
     "execution_count": 25,
     "metadata": {},
     "output_type": "execute_result"
    }
   ],
   "source": [
    "GC_calculator('ATGCGGACCTAG')"
   ]
  },
  {
   "cell_type": "markdown",
   "metadata": {},
   "source": [
    "# MAIN"
   ]
  },
  {
   "cell_type": "code",
   "execution_count": 26,
   "metadata": {},
   "outputs": [],
   "source": [
    "cytb_seqs = get_sequences_from_file(\"bears_cytb.fasta\") \n",
    "\n",
    "bears_df = pd.read_csv(\"bears_mass.csv\") # Includes only data for body mass \n",
    "bears_df2 = pd.read_csv(\"bears_mass.csv\") # Includes only data for body mass \n",
    "species_list = list(bears_df.species)\n"
   ]
  },
  {
   "cell_type": "markdown",
   "metadata": {},
   "source": [
    "## 6. Add two new columns to the bears DataFrame: (1) molecular weight and (2) GC content. Set the value to 'NaN' to indicate that these cells are currently empty."
   ]
  },
  {
   "cell_type": "code",
   "execution_count": 27,
   "metadata": {},
   "outputs": [
    {
     "data": {
      "text/html": [
       "<div>\n",
       "<style scoped>\n",
       "    .dataframe tbody tr th:only-of-type {\n",
       "        vertical-align: middle;\n",
       "    }\n",
       "\n",
       "    .dataframe tbody tr th {\n",
       "        vertical-align: top;\n",
       "    }\n",
       "\n",
       "    .dataframe thead th {\n",
       "        text-align: right;\n",
       "    }\n",
       "</style>\n",
       "<table border=\"1\" class=\"dataframe\">\n",
       "  <thead>\n",
       "    <tr style=\"text-align: right;\">\n",
       "      <th></th>\n",
       "      <th>species</th>\n",
       "      <th>mass</th>\n",
       "    </tr>\n",
       "  </thead>\n",
       "  <tbody>\n",
       "    <tr>\n",
       "      <th>0</th>\n",
       "      <td>Ursus spelaeus</td>\n",
       "      <td>550.800</td>\n",
       "    </tr>\n",
       "    <tr>\n",
       "      <th>1</th>\n",
       "      <td>Ursus arctos</td>\n",
       "      <td>203.500</td>\n",
       "    </tr>\n",
       "    <tr>\n",
       "      <th>2</th>\n",
       "      <td>Ursus thibetanus</td>\n",
       "      <td>99.714</td>\n",
       "    </tr>\n",
       "    <tr>\n",
       "      <th>3</th>\n",
       "      <td>Melursus ursinus</td>\n",
       "      <td>100.030</td>\n",
       "    </tr>\n",
       "    <tr>\n",
       "      <th>4</th>\n",
       "      <td>Ursus americanus</td>\n",
       "      <td>110.560</td>\n",
       "    </tr>\n",
       "    <tr>\n",
       "      <th>5</th>\n",
       "      <td>Helarctos malayanus</td>\n",
       "      <td>47.020</td>\n",
       "    </tr>\n",
       "    <tr>\n",
       "      <th>6</th>\n",
       "      <td>Ailuropoda melanoleuca</td>\n",
       "      <td>118.200</td>\n",
       "    </tr>\n",
       "    <tr>\n",
       "      <th>7</th>\n",
       "      <td>Tremarctos ornatus</td>\n",
       "      <td>140.700</td>\n",
       "    </tr>\n",
       "    <tr>\n",
       "      <th>8</th>\n",
       "      <td>Ursus maritimus</td>\n",
       "      <td>425.100</td>\n",
       "    </tr>\n",
       "  </tbody>\n",
       "</table>\n",
       "</div>"
      ],
      "text/plain": [
       "                  species     mass\n",
       "0          Ursus spelaeus  550.800\n",
       "1            Ursus arctos  203.500\n",
       "2        Ursus thibetanus   99.714\n",
       "3        Melursus ursinus  100.030\n",
       "4        Ursus americanus  110.560\n",
       "5     Helarctos malayanus   47.020\n",
       "6  Ailuropoda melanoleuca  118.200\n",
       "7      Tremarctos ornatus  140.700\n",
       "8         Ursus maritimus  425.100"
      ]
     },
     "execution_count": 27,
     "metadata": {},
     "output_type": "execute_result"
    }
   ],
   "source": [
    "bears_df # The dataframe before adding columns"
   ]
  },
  {
   "cell_type": "markdown",
   "metadata": {},
   "source": [
    "These two commands define two new columns `Molecular_Weight` and `GC_Content`, both of which will be filled with \"NaN\" in every cell. "
   ]
  },
  {
   "cell_type": "code",
   "execution_count": 28,
   "metadata": {},
   "outputs": [],
   "source": [
    "bears_df[\"Molecular_Weight\"] = np.nan\n",
    "bears_df[\"GC_Content\"] = np.nan"
   ]
  },
  {
   "cell_type": "code",
   "execution_count": 29,
   "metadata": {},
   "outputs": [
    {
     "data": {
      "text/html": [
       "<div>\n",
       "<style scoped>\n",
       "    .dataframe tbody tr th:only-of-type {\n",
       "        vertical-align: middle;\n",
       "    }\n",
       "\n",
       "    .dataframe tbody tr th {\n",
       "        vertical-align: top;\n",
       "    }\n",
       "\n",
       "    .dataframe thead th {\n",
       "        text-align: right;\n",
       "    }\n",
       "</style>\n",
       "<table border=\"1\" class=\"dataframe\">\n",
       "  <thead>\n",
       "    <tr style=\"text-align: right;\">\n",
       "      <th></th>\n",
       "      <th>species</th>\n",
       "      <th>mass</th>\n",
       "      <th>Molecular_Weight</th>\n",
       "      <th>GC_Content</th>\n",
       "    </tr>\n",
       "  </thead>\n",
       "  <tbody>\n",
       "    <tr>\n",
       "      <th>0</th>\n",
       "      <td>Ursus spelaeus</td>\n",
       "      <td>550.800</td>\n",
       "      <td>NaN</td>\n",
       "      <td>NaN</td>\n",
       "    </tr>\n",
       "    <tr>\n",
       "      <th>1</th>\n",
       "      <td>Ursus arctos</td>\n",
       "      <td>203.500</td>\n",
       "      <td>NaN</td>\n",
       "      <td>NaN</td>\n",
       "    </tr>\n",
       "    <tr>\n",
       "      <th>2</th>\n",
       "      <td>Ursus thibetanus</td>\n",
       "      <td>99.714</td>\n",
       "      <td>NaN</td>\n",
       "      <td>NaN</td>\n",
       "    </tr>\n",
       "    <tr>\n",
       "      <th>3</th>\n",
       "      <td>Melursus ursinus</td>\n",
       "      <td>100.030</td>\n",
       "      <td>NaN</td>\n",
       "      <td>NaN</td>\n",
       "    </tr>\n",
       "    <tr>\n",
       "      <th>4</th>\n",
       "      <td>Ursus americanus</td>\n",
       "      <td>110.560</td>\n",
       "      <td>NaN</td>\n",
       "      <td>NaN</td>\n",
       "    </tr>\n",
       "    <tr>\n",
       "      <th>5</th>\n",
       "      <td>Helarctos malayanus</td>\n",
       "      <td>47.020</td>\n",
       "      <td>NaN</td>\n",
       "      <td>NaN</td>\n",
       "    </tr>\n",
       "    <tr>\n",
       "      <th>6</th>\n",
       "      <td>Ailuropoda melanoleuca</td>\n",
       "      <td>118.200</td>\n",
       "      <td>NaN</td>\n",
       "      <td>NaN</td>\n",
       "    </tr>\n",
       "    <tr>\n",
       "      <th>7</th>\n",
       "      <td>Tremarctos ornatus</td>\n",
       "      <td>140.700</td>\n",
       "      <td>NaN</td>\n",
       "      <td>NaN</td>\n",
       "    </tr>\n",
       "    <tr>\n",
       "      <th>8</th>\n",
       "      <td>Ursus maritimus</td>\n",
       "      <td>425.100</td>\n",
       "      <td>NaN</td>\n",
       "      <td>NaN</td>\n",
       "    </tr>\n",
       "  </tbody>\n",
       "</table>\n",
       "</div>"
      ],
      "text/plain": [
       "                  species     mass  Molecular_Weight  GC_Content\n",
       "0          Ursus spelaeus  550.800               NaN         NaN\n",
       "1            Ursus arctos  203.500               NaN         NaN\n",
       "2        Ursus thibetanus   99.714               NaN         NaN\n",
       "3        Melursus ursinus  100.030               NaN         NaN\n",
       "4        Ursus americanus  110.560               NaN         NaN\n",
       "5     Helarctos malayanus   47.020               NaN         NaN\n",
       "6  Ailuropoda melanoleuca  118.200               NaN         NaN\n",
       "7      Tremarctos ornatus  140.700               NaN         NaN\n",
       "8         Ursus maritimus  425.100               NaN         NaN"
      ]
     },
     "execution_count": 29,
     "metadata": {},
     "output_type": "execute_result"
    }
   ],
   "source": [
    "bears_df"
   ]
  },
  {
   "cell_type": "markdown",
   "metadata": {},
   "source": [
    "## 7. Write a for-loop that translates each sequence and also gets molecular weight and computes the GC content of each translated sequence and adds those data to DataFrame"
   ]
  },
  {
   "cell_type": "markdown",
   "metadata": {},
   "source": [
    "I tried for a very long time to append data from the `for` loop to the empty columns in the `bears_df` dataframe as it ran to no avail. Instead, I saved the output into their own files, turned them into dataframes, and added the species name alongside their GC content / molecular weight. After this, I merged the files with `bears_df2` (no empty columns) to get the final dataset. The `.append` command here would not work with an existing file that already had data in it, which is why each output was appended to its own new file. \n",
    "\n",
    "What this command does:\n",
    "\n",
    "* Creates 2 empty lists, one to store GC content and one to store molecular weights. Also, turn the species list into a dataframe\n",
    "* `for` loop with `cytb_seqs`\n",
    "    * Clear the variable names `aa_seq`, `mw_aa_seq`, and `gc_content` for use in the script. \n",
    "    * Use the `translation_function` to translate the sequence into amino acids and place the output in `aa_seq`\n",
    "    * Use the `compute_molecular_weight` function to compute the molecular weight of `aa_seq` and place the output in `mw_aa_seq`\n",
    "    * Use the `GC_calculator` function to calculate GC content and place the output into `gc_content`\n",
    "    * Append GC content to the empty `bears_GC` list\n",
    "    * Append molecular weights to the empty `bears_MW` list\n",
    "* Turn `bears_GC` and `bears_MW` into dataframes, then use the Pandas `concat` (concatenate) function to merge the single-column species dataframe to each. "
   ]
  },
  {
   "cell_type": "code",
   "execution_count": 128,
   "metadata": {},
   "outputs": [],
   "source": [
    "bears_GC = []\n",
    "bears_MW = []\n",
    "species_df = DataFrame(species_list, columns=['species'])\n",
    "\n",
    "for species_id, seq in cytb_seqs.items():\n",
    "    aa_seq = {}\n",
    "    mw_aa_seq = {}\n",
    "    gc_content = {}\n",
    "    aa_seq = translate_fxn_stops(seq) \n",
    "    mw_aa_seq = compute_molecular_weight(aa_seq)\n",
    "    gc_content = GC_calculator(seq)\n",
    "    bears_GC.append(gc_content)\n",
    "    bears_MW.append(mw_aa_seq)\n",
    "\n",
    "bears_GC_df = DataFrame(bears_GC, columns=['GC_Content'])\n",
    "bears_GC_df_Species = pd.concat([species_df, bears_GC_df], axis=1)\n",
    "\n",
    "bears_MW_df = DataFrame(bears_MW, columns=['Molecular_Weight'])\n",
    "bears_MW_df_Species = pd.concat([species_df, bears_MW_df], axis=1)"
   ]
  },
  {
   "cell_type": "markdown",
   "metadata": {},
   "source": [
    "It's more appropriate to use kilodaltons (kD) to describe protein molecular weights, so I divided the original MW column by 1000 and placed this in a new column. "
   ]
  },
  {
   "cell_type": "code",
   "execution_count": 129,
   "metadata": {},
   "outputs": [
    {
     "data": {
      "text/html": [
       "<div>\n",
       "<style scoped>\n",
       "    .dataframe tbody tr th:only-of-type {\n",
       "        vertical-align: middle;\n",
       "    }\n",
       "\n",
       "    .dataframe tbody tr th {\n",
       "        vertical-align: top;\n",
       "    }\n",
       "\n",
       "    .dataframe thead th {\n",
       "        text-align: right;\n",
       "    }\n",
       "</style>\n",
       "<table border=\"1\" class=\"dataframe\">\n",
       "  <thead>\n",
       "    <tr style=\"text-align: right;\">\n",
       "      <th></th>\n",
       "      <th>species</th>\n",
       "      <th>Molecular_Weight</th>\n",
       "      <th>Molecular_Weight_kD</th>\n",
       "    </tr>\n",
       "  </thead>\n",
       "  <tbody>\n",
       "    <tr>\n",
       "      <th>0</th>\n",
       "      <td>Ursus spelaeus</td>\n",
       "      <td>42458.7992</td>\n",
       "      <td>42.458799</td>\n",
       "    </tr>\n",
       "    <tr>\n",
       "      <th>1</th>\n",
       "      <td>Ursus arctos</td>\n",
       "      <td>42414.7435</td>\n",
       "      <td>42.414743</td>\n",
       "    </tr>\n",
       "    <tr>\n",
       "      <th>2</th>\n",
       "      <td>Ursus thibetanus</td>\n",
       "      <td>42306.6735</td>\n",
       "      <td>42.306673</td>\n",
       "    </tr>\n",
       "    <tr>\n",
       "      <th>3</th>\n",
       "      <td>Melursus ursinus</td>\n",
       "      <td>42551.9900</td>\n",
       "      <td>42.551990</td>\n",
       "    </tr>\n",
       "    <tr>\n",
       "      <th>4</th>\n",
       "      <td>Ursus americanus</td>\n",
       "      <td>42427.7439</td>\n",
       "      <td>42.427744</td>\n",
       "    </tr>\n",
       "    <tr>\n",
       "      <th>5</th>\n",
       "      <td>Helarctos malayanus</td>\n",
       "      <td>42560.8910</td>\n",
       "      <td>42.560891</td>\n",
       "    </tr>\n",
       "    <tr>\n",
       "      <th>6</th>\n",
       "      <td>Ailuropoda melanoleuca</td>\n",
       "      <td>42702.1845</td>\n",
       "      <td>42.702184</td>\n",
       "    </tr>\n",
       "    <tr>\n",
       "      <th>7</th>\n",
       "      <td>Tremarctos ornatus</td>\n",
       "      <td>42384.8266</td>\n",
       "      <td>42.384827</td>\n",
       "    </tr>\n",
       "    <tr>\n",
       "      <th>8</th>\n",
       "      <td>Ursus maritimus</td>\n",
       "      <td>42454.7873</td>\n",
       "      <td>42.454787</td>\n",
       "    </tr>\n",
       "  </tbody>\n",
       "</table>\n",
       "</div>"
      ],
      "text/plain": [
       "                  species  Molecular_Weight  Molecular_Weight_kD\n",
       "0          Ursus spelaeus        42458.7992            42.458799\n",
       "1            Ursus arctos        42414.7435            42.414743\n",
       "2        Ursus thibetanus        42306.6735            42.306673\n",
       "3        Melursus ursinus        42551.9900            42.551990\n",
       "4        Ursus americanus        42427.7439            42.427744\n",
       "5     Helarctos malayanus        42560.8910            42.560891\n",
       "6  Ailuropoda melanoleuca        42702.1845            42.702184\n",
       "7      Tremarctos ornatus        42384.8266            42.384827\n",
       "8         Ursus maritimus        42454.7873            42.454787"
      ]
     },
     "execution_count": 129,
     "metadata": {},
     "output_type": "execute_result"
    }
   ],
   "source": [
    "bears_MW_df_Species[\"Molecular_Weight_kD\"] = bears_MW_df_Species[\"Molecular_Weight\"] / 1000\n",
    "bears_MW_df_Species"
   ]
  },
  {
   "cell_type": "markdown",
   "metadata": {},
   "source": [
    "Next, I merged these dataframes together with the original `bears_df` dataframe by the \"species\" column one at a time. "
   ]
  },
  {
   "cell_type": "code",
   "execution_count": 130,
   "metadata": {},
   "outputs": [],
   "source": [
    "bears_MergeGC_2 = pd.merge(\n",
    "    bears_df2,\n",
    "    bears_GC_df_Species,\n",
    "    how=\"inner\",\n",
    "    on=None,\n",
    "    left_on=\"species\",\n",
    "    right_on=\"species\",\n",
    "    left_index=False,\n",
    "    right_index=False)\n",
    "\n",
    "bears_Merge_2 = pd.merge(\n",
    "    bears_MergeGC_2,\n",
    "    bears_MW_df_Species,\n",
    "    how=\"inner\",\n",
    "    on=None,\n",
    "    left_on=\"species\",\n",
    "    right_on=\"species\",\n",
    "    left_index=False,\n",
    "    right_index=False)"
   ]
  },
  {
   "cell_type": "markdown",
   "metadata": {},
   "source": [
    "Below, we can see the final table to be used for plotting. "
   ]
  },
  {
   "cell_type": "code",
   "execution_count": 131,
   "metadata": {},
   "outputs": [
    {
     "data": {
      "text/html": [
       "<div>\n",
       "<style scoped>\n",
       "    .dataframe tbody tr th:only-of-type {\n",
       "        vertical-align: middle;\n",
       "    }\n",
       "\n",
       "    .dataframe tbody tr th {\n",
       "        vertical-align: top;\n",
       "    }\n",
       "\n",
       "    .dataframe thead th {\n",
       "        text-align: right;\n",
       "    }\n",
       "</style>\n",
       "<table border=\"1\" class=\"dataframe\">\n",
       "  <thead>\n",
       "    <tr style=\"text-align: right;\">\n",
       "      <th></th>\n",
       "      <th>species</th>\n",
       "      <th>mass</th>\n",
       "      <th>GC_Content</th>\n",
       "      <th>Molecular_Weight</th>\n",
       "      <th>Molecular_Weight_kD</th>\n",
       "    </tr>\n",
       "  </thead>\n",
       "  <tbody>\n",
       "    <tr>\n",
       "      <th>0</th>\n",
       "      <td>Ursus spelaeus</td>\n",
       "      <td>550.800</td>\n",
       "      <td>43.771930</td>\n",
       "      <td>42458.7992</td>\n",
       "      <td>42.458799</td>\n",
       "    </tr>\n",
       "    <tr>\n",
       "      <th>1</th>\n",
       "      <td>Ursus arctos</td>\n",
       "      <td>203.500</td>\n",
       "      <td>43.771930</td>\n",
       "      <td>42414.7435</td>\n",
       "      <td>42.414743</td>\n",
       "    </tr>\n",
       "    <tr>\n",
       "      <th>2</th>\n",
       "      <td>Ursus thibetanus</td>\n",
       "      <td>99.714</td>\n",
       "      <td>45.614035</td>\n",
       "      <td>42306.6735</td>\n",
       "      <td>42.306673</td>\n",
       "    </tr>\n",
       "    <tr>\n",
       "      <th>3</th>\n",
       "      <td>Melursus ursinus</td>\n",
       "      <td>100.030</td>\n",
       "      <td>45.175439</td>\n",
       "      <td>42551.9900</td>\n",
       "      <td>42.551990</td>\n",
       "    </tr>\n",
       "    <tr>\n",
       "      <th>4</th>\n",
       "      <td>Ursus americanus</td>\n",
       "      <td>110.560</td>\n",
       "      <td>43.947368</td>\n",
       "      <td>42427.7439</td>\n",
       "      <td>42.427744</td>\n",
       "    </tr>\n",
       "    <tr>\n",
       "      <th>5</th>\n",
       "      <td>Helarctos malayanus</td>\n",
       "      <td>47.020</td>\n",
       "      <td>44.298246</td>\n",
       "      <td>42560.8910</td>\n",
       "      <td>42.560891</td>\n",
       "    </tr>\n",
       "    <tr>\n",
       "      <th>6</th>\n",
       "      <td>Ailuropoda melanoleuca</td>\n",
       "      <td>118.200</td>\n",
       "      <td>40.789474</td>\n",
       "      <td>42702.1845</td>\n",
       "      <td>42.702184</td>\n",
       "    </tr>\n",
       "    <tr>\n",
       "      <th>7</th>\n",
       "      <td>Tremarctos ornatus</td>\n",
       "      <td>140.700</td>\n",
       "      <td>44.385965</td>\n",
       "      <td>42384.8266</td>\n",
       "      <td>42.384827</td>\n",
       "    </tr>\n",
       "    <tr>\n",
       "      <th>8</th>\n",
       "      <td>Ursus maritimus</td>\n",
       "      <td>425.100</td>\n",
       "      <td>44.298246</td>\n",
       "      <td>42454.7873</td>\n",
       "      <td>42.454787</td>\n",
       "    </tr>\n",
       "  </tbody>\n",
       "</table>\n",
       "</div>"
      ],
      "text/plain": [
       "                  species     mass  GC_Content  Molecular_Weight  \\\n",
       "0          Ursus spelaeus  550.800   43.771930        42458.7992   \n",
       "1            Ursus arctos  203.500   43.771930        42414.7435   \n",
       "2        Ursus thibetanus   99.714   45.614035        42306.6735   \n",
       "3        Melursus ursinus  100.030   45.175439        42551.9900   \n",
       "4        Ursus americanus  110.560   43.947368        42427.7439   \n",
       "5     Helarctos malayanus   47.020   44.298246        42560.8910   \n",
       "6  Ailuropoda melanoleuca  118.200   40.789474        42702.1845   \n",
       "7      Tremarctos ornatus  140.700   44.385965        42384.8266   \n",
       "8         Ursus maritimus  425.100   44.298246        42454.7873   \n",
       "\n",
       "   Molecular_Weight_kD  \n",
       "0            42.458799  \n",
       "1            42.414743  \n",
       "2            42.306673  \n",
       "3            42.551990  \n",
       "4            42.427744  \n",
       "5            42.560891  \n",
       "6            42.702184  \n",
       "7            42.384827  \n",
       "8            42.454787  "
      ]
     },
     "execution_count": 131,
     "metadata": {},
     "output_type": "execute_result"
    }
   ],
   "source": [
    "bears_Merge_2"
   ]
  },
  {
   "cell_type": "markdown",
   "metadata": {},
   "source": [
    "## 8. Plot a bar-chart of the mass with the x-axes labeled with species names."
   ]
  },
  {
   "cell_type": "markdown",
   "metadata": {},
   "source": [
    "Here is a bar chart of the masses of the bears. I ordered the species by mass to make the plot easier to interpret and rotated the axis labels so they could actually be read. "
   ]
  },
  {
   "cell_type": "code",
   "execution_count": 35,
   "metadata": {},
   "outputs": [
    {
     "data": {
      "text/plain": [
       "<AxesSubplot:title={'center':'Mass of Bear Species'}, xlabel='species', ylabel='mass'>"
      ]
     },
     "execution_count": 35,
     "metadata": {},
     "output_type": "execute_result"
    },
    {
     "data": {
      "image/png": "[encoded data removed]",
      "text/plain": [
       "<Figure size 432x288 with 1 Axes>"
      ]
     },
     "metadata": {
      "needs_background": "light"
     },
     "output_type": "display_data"
    }
   ],
   "source": [
    "%matplotlib inline\n",
    "\n",
    "barplot = sns.barplot(x=bears_Merge_2['species'], y=bears_Merge_2['mass'], color='c',\n",
    "    order=[\"Helarctos malayanus\", \"Ursus thibetanus\", \"Melursus ursinus\", \"Ailuropoda melanoleuca\", \n",
    "          \"Tremarctos ornatus\", \"Ursus arctos\", \"Ursus maritimus\", \"Ursus spelaeus\"])\n",
    "\n",
    "barplot.set_xticklabels(barplot.get_xticklabels(), rotation=45, \n",
    "                          horizontalalignment='right')\n",
    "barplot.set_title('Mass of Bear Species')\n",
    "\n",
    "barplot"
   ]
  },
  {
   "attachments": {},
   "cell_type": "markdown",
   "metadata": {},
   "source": [
    "### Questions\n",
    "\n",
    "    *Q1* What is the largest bear species? \n",
    "         The largest bear species here is Ursus spelaeus. \n",
    "         \n",
    "    *Q2* What else is interesting about this species?\n",
    "         Something interesting about this species is that it is extinct :(\n",
    "         It would have also been interesting (terrifying) to stand next to one. "
   ]
  },
  {
   "attachments": {
    "ursus-spelaeus-cave-bear-size.jpg": {
     "image/jpeg": "[encoded data removed]"
    }
   },
   "cell_type": "markdown",
   "metadata": {},
   "source": [
    "![ursus-spelaeus-cave-bear-size.jpg](attachment:ursus-spelaeus-cave-bear-size.jpg)\n",
    "[LINK TO PHOTO](http://www.prehistoric-wildlife.com/species/u/ursus-spelaeus-cave-bear.html)"
   ]
  },
  {
   "cell_type": "markdown",
   "metadata": {},
   "source": [
    "## 9. Plot a visualization of the molecular weight (y-axis) as a function of GC-content (x-axis)."
   ]
  },
  {
   "cell_type": "markdown",
   "metadata": {},
   "source": [
    "Here is a scatter plot of the molecular weight vs. GC content. I reformatted molecular weight to be in kilodaltons earlier, which was used for plotting here. I also colored the dots by species name, making it easier to tell which is which. "
   ]
  },
  {
   "cell_type": "code",
   "execution_count": 36,
   "metadata": {},
   "outputs": [
    {
     "data": {
      "text/plain": [
       "<seaborn.axisgrid.FacetGrid at 0x7ff24b7fa5e0>"
      ]
     },
     "execution_count": 36,
     "metadata": {},
     "output_type": "execute_result"
    },
    {
     "data": {
      "image/png": "[encoded data removed]",
      "text/plain": [
       "<Figure size 516.875x360 with 1 Axes>"
      ]
     },
     "metadata": {
      "needs_background": "light"
     },
     "output_type": "display_data"
    }
   ],
   "source": [
    "%matplotlib inline\n",
    "\n",
    "bearplot = sns.lmplot(x=\"GC_Content\", y=\"Molecular_Weight_kD\", data=bears_Merge_2, fit_reg=False, hue='species')\n",
    "\n",
    "bearplot.set_axis_labels('GC Content (%)', 'Molecular Weight (kilodaltons)')\n"
   ]
  },
  {
   "cell_type": "markdown",
   "metadata": {},
   "source": [
    "## 10. Save the new DataFrame to a file called \"bears_mass_cytb.csv\""
   ]
  },
  {
   "cell_type": "code",
   "execution_count": 37,
   "metadata": {},
   "outputs": [],
   "source": [
    "bears_Merge_2.to_csv(r'~/Desktop/BCB546-PythonHW_Spring2021/bears_mass_cytb.csv', index=False)"
   ]
  },
  {
   "cell_type": "markdown",
   "metadata": {},
   "source": [
    "## 11. BONUS \n",
    "What else can we do with this dataset in Python? Add functions or anything that might be interesting and fun. (optional)"
   ]
  },
  {
   "cell_type": "markdown",
   "metadata": {},
   "source": [
    "Something fun I found online to do with this information is to plot the GC content across the gene. [LINK](https://edinburgh-genome-foundry.github.io/DnaFeaturesViewer/examples/with_gc_plot.html) to the code I used in part to make this pretty plot. \n",
    "\n",
    "I decided to plot the GC content of *Ailuropoda melanoleuca*, the bear with the lowest GC content (40.79%), and *Ursus thibetanus*, the bear with the highest GC content (45.61%). I wasn't expecting to see that much of a difference, but it's actually quite apparent how different these sequences are from one another in the graphs below. Not only is the overall GC content different, but the regions of the gene with a higher %GC are located in different areas of the gene. There is a horizontal line running through each plot indicating the overall GC content of the gene. "
   ]
  },
  {
   "cell_type": "code",
   "execution_count": 73,
   "metadata": {},
   "outputs": [],
   "source": [
    "def plot_local_gc_content(record, window_size, ax):\n",
    "    \"\"\"Plot windowed GC content on a designated Matplotlib ax.\"\"\"\n",
    "    def gc_content(s):\n",
    "        return 100.0 * len([c for c in s if c in \"GC\"]) / len(s)\n",
    "\n",
    "    yy = [\n",
    "        gc_content(record.seq[i : i + window_size])\n",
    "        for i in range(len(record.seq) - window_size)\n",
    "    ]\n",
    "    xx = np.arange(len(record.seq) - window_size) + 25\n",
    "    ax.fill_between(xx, yy, alpha=0.3)\n",
    "    ax.set_ylim(bottom=0)\n",
    "    ax.set_ylabel(\"GC (%)\")\n",
    "    ax.set_xlabel(\"Position\")"
   ]
  },
  {
   "cell_type": "code",
   "execution_count": 74,
   "metadata": {},
   "outputs": [
    {
     "name": "stdout",
     "output_type": "stream",
     "text": [
      "Ursus thibetanus cytb sequence (GC = 45.61%): ATGACCAACATCCGAAAAACCCATCCATTAGCCAAAATCATCAACAACTCACTCATTGATCTCCCAGCACCATCAAATATCTCAGCATGATGAAACTTTGGATCCCTCCTCGGAATATGCCTAATCCTACAGATTCTGACAGGCCTATTTCTAGCTATACACTACACATCAGACGCGACTACAGCCTTTTCATCAGTCGCCCATATTTGCCGAGACGTCCATTACGGATGAATTATCCGATACATACATGCAAACGGAGCCTCCATGTTCTTCATCTGCCTATTCATACACGTAGGACGGGGCTTGTATTATGGCTCATACCTACTCTCAGAAACATGAAACATTGGCATCATCCTCCTATTTACAGTTATAGCCACCGCATTCATAGGATATGTCCTACCCTGAGGCCAAATATCTTTCTGAGGAGCGACTGTCATTACCAACCTCCTATCAGCCATTCCCTATATTGGAACGGACCTAGTAGAGTGAATCTGAGGGGGCTTTTCCGTAGATAAAGCAACCCTAACACGATTCTTTGCTTTCCACTTTATCCTTCCATTTATCATCCTAGCACTAGCAGCAGTTCATCTATTGTTCCTACACGAAACAGGATCCAACAACCCCTCTGGAATCCCATCCGACTCGGACAAAATCCCATTCCACCCATACTATACAATTAAGGACGCCCTAGGCGCCCTACTTCTCATTCTAGCCCTAGCAACTCTAGTTCTATTCTCGCCCGACTTACTGGGAGACCCTGACAACTATACCCCCGCAAACCCACTGAGCACCCCGCCCCACATCAAGCCTGAGTGATACTTTTTATTTGCTTACGCCATCTTACGATCCATCCCCAACAAACTAGGAGGAGTACTAGCGCTAATCTTCTCTATCCTAATCCTAGCCATTATCCCCCTTCTACACACATCCAAACAACGAGGAATAATGTTCCGACCCCTAAGCCAATGCCTATTTTGACTCCTAGTAGCAGACCTACTAACACTAACATGAATCGGAGGACAACCAGTAGAACATCCCTTCATCATTATCGGACAGCTAGCCTCCATCCTCTACTTCACAATCCTCCTGGTGCTCATGCCCATCGCTGGAATCATTGAAAACAACCTCTCAAAATGAAGA \n",
      "\n",
      "Ailuropoda melanoleuca cytb sequence (GC = 40.79%): ATGATCAACATCCGAAAAACTCATCCATTAGTTAAAATTATCAACAACTCATTCATTGACCTTCCAACACCATCAAACATTTCAACATGATGGAACTTTGGGTCCCTGTTAGGAGTGTGTCTGATCTTGCAAATCTTAACAGGCTTATTTCTAGCCATACACTATACATCAGATACAGCTACAGCCTTTTCATCAGTCGCACACATTTGTCGAGACGTCAACTATGGGTGATTTATCCGATATATACATGCCAATGGGGCCTCTATATTTTTTATCTGCCTATTTATACACGTAGGGCGAGGCTTATACTATGGATCATACCTATTTCCAGAGACATGGAATATCGGAATTATTCTCCTACTTACAATTATAGCCACCGCATTTATAGGATACGTCCTACCCTGAGGCCAAATGTCCTTCTGAGGAGCGACTGTCATCACCAACCTACTATCGGCCATTCCCTACATCGGAACGAACCTAGTAGAATGAATCTGAGGGGGCTTTTCCGTAGATAAGGCGACCCTAACACGATTCTTTGCTTTCCACTTTATCCTTCCATTTATCATCTCAGCACTAGCAATAGTCCATCTATTATTCCTTCACGAAACAGGATCTAATAACCCCTCCGGAATTCCATCTGACCCAGACAAAATCCCATTTTACCCCTATCATACAATTAAAGACATCCTAGGCGTCCTATTTCTTGTCCTCGCCTTAATAACCCTGGCTTTATTCTCACCAGACCTGTTAGGAGACCCTGATAACTATACCCCTGCAAATCCACTAAGTACCCCGCCACATATTAAGCCTGAATGGTACTTTCTATTTGCCTACGCTATCCTGCGATCCATTCCTAATAAACTAGGAGGGGTGCTAGCTCTAATCTTCTCTATTCTAATTCTAACTATTATTCCACTATTACATACATCCAAACAACGAAGCATGATATTCCGACCTCTAAGTCAATGCTTATTCTGACTCCTAGTAGCAGACCTACTCACACTAACATGAATTGGAGGACAGCCAGTAGAACACCCCTTCATTATTATTGGGCAATTGGCCTCTATTCTCTACTTTACAATTCTTCTAGTACTTATACCTATCACTAGCATTATTGAGAATAGCCTCTCAAAATGAAGA\n"
     ]
    }
   ],
   "source": [
    "handle = open(\"bears_cytb.fasta\", \"r\") \n",
    "seq_list = list(SeqIO.parse(handle, \"fasta\"))\n",
    "handle.close()\n",
    "print(\"Ursus thibetanus cytb sequence (GC = 45.61%):\", seq_list[2].seq, \"\\n\")\n",
    "print(\"Ailuropoda melanoleuca cytb sequence (GC = 40.79%):\", seq_list[6].seq) "
   ]
  },
  {
   "cell_type": "code",
   "execution_count": 75,
   "metadata": {},
   "outputs": [
    {
     "data": {
      "image/png": "[encoded data removed]",
      "text/plain": [
       "<Figure size 864x360 with 1 Axes>"
      ]
     },
     "metadata": {
      "needs_background": "light"
     },
     "output_type": "display_data"
    }
   ],
   "source": [
    "fig, (ax1) = plt.subplots(1, figsize=(12, 5), sharex=True)\n",
    "\n",
    "plot_local_gc_content(seq_list[2], window_size=50, ax=ax1)\n",
    "plt.title(\"GC Content across cytb sequence of Ursus thibetanus (GC = 45.61%)\")\n",
    "plt.axhline(y = 45.61, color = 'k', linestyle = '-')\n",
    "plt.show()"
   ]
  },
  {
   "cell_type": "code",
   "execution_count": 76,
   "metadata": {},
   "outputs": [
    {
     "data": {
      "image/png": "[encoded data removed]",
      "text/plain": [
       "<Figure size 864x360 with 1 Axes>"
      ]
     },
     "metadata": {
      "needs_background": "light"
     },
     "output_type": "display_data"
    }
   ],
   "source": [
    "fig, (ax1) = plt.subplots(1, figsize=(12, 5), sharex=True)\n",
    "\n",
    "plot_local_gc_content(seq_list[6], window_size=50, ax=ax1)\n",
    "plt.title(\"GC Content across cytb sequence of Ailuropoda melanoleuca (GC = 40.79%)\")\n",
    "plt.axhline(y = 40.79, color = 'k', linestyle = '-')\n",
    "plt.show()"
   ]
  },
  {
   "cell_type": "code",
   "execution_count": null,
   "metadata": {},
   "outputs": [],
   "source": []
  }
 ],
 "metadata": {
  "kernelspec": {
   "display_name": "Python 3",
   "language": "python",
   "name": "python3"
  },
  "language_info": {
   "codemirror_mode": {
    "name": "ipython",
    "version": 3
   },
   "file_extension": ".py",
   "mimetype": "text/x-python",
   "name": "python",
   "nbconvert_exporter": "python",
   "pygments_lexer": "ipython3",
   "version": "3.8.5"
  }
 },
 "nbformat": 4,
 "nbformat_minor": 4
}
